{
 "cells": [
  {
   "cell_type": "code",
   "execution_count": null,
   "metadata": {
    "colab": {
     "base_uri": "https://localhost:8080/"
    },
    "id": "l5-5BsZsakdS",
    "outputId": "5fe45fef-b433-41b8-8dd1-cfb283cfdb4e"
   },
   "outputs": [
    {
     "name": "stdout",
     "output_type": "stream",
     "text": [
      "TensorFlow 1.x selected.\n"
     ]
    }
   ],
   "source": [
    "%tensorflow_version 1.x"
   ]
  },
  {
   "cell_type": "markdown",
   "metadata": {
    "id": "eKX-tsjsHifj"
   },
   "source": [
    "# New Section"
   ]
  },
  {
   "cell_type": "code",
   "execution_count": null,
   "metadata": {
    "id": "EH-7KJkoB2JL"
   },
   "outputs": [],
   "source": [
    "import matplotlib.pyplot as plt\n",
    "from scipy.io import savemat\n",
    "from scipy.io import loadmat\n"
   ]
  },
  {
   "cell_type": "code",
   "execution_count": null,
   "metadata": {
    "colab": {
     "base_uri": "https://localhost:8080/"
    },
    "id": "KS8UdvJvHzqD",
    "outputId": "75fea4e1-3222-41bd-de69-7bb43079c8b9"
   },
   "outputs": [
    {
     "name": "stdout",
     "output_type": "stream",
     "text": [
      "Mounted at /content/drive\n"
     ]
    }
   ],
   "source": [
    "from google.colab import drive \n",
    "drive.mount('/content/drive')"
   ]
  },
  {
   "cell_type": "code",
   "execution_count": null,
   "metadata": {
    "id": "FOM5bs4qApNS"
   },
   "outputs": [],
   "source": [
    "import numpy as np\n",
    "import tensorflow as tf\n",
    "import time\n",
    "tf.set_random_seed(1)\n",
    "np.random.seed(1)\n",
    "num_epochs=200\n",
    "display_step=1\n",
    "var=1\n",
    "mean=0\n",
    "beta=0.0 # This is the L2-Regularization parameter\n",
    "mini_batch_size=3*10**3  # Number of examples for training\n",
    "num_batches = 5*10**2\n",
    "m_test=10**4   # Number of examples for testing\n",
    "num_test_batch = 10"
   ]
  },
  {
   "cell_type": "code",
   "execution_count": null,
   "metadata": {
    "id": "abq2vhLlGQXc"
   },
   "outputs": [],
   "source": [
    "eta = 1\n",
    "P_b = 10 #Watt or 40 dBm\n",
    "P_i = 0 #Watt or 40 dBm\n",
    "sigma_n = np.sqrt(3.98*10**-14)\n",
    "M = 8    #Power Beam\n",
    "N = 8   #of IRS elements"
   ]
  },
  {
   "cell_type": "code",
   "execution_count": null,
   "metadata": {
    "colab": {
     "base_uri": "https://localhost:8080/"
    },
    "id": "aDTiIEfVA1Fb",
    "outputId": "a18d0628-389e-4199-9437-bbad06a01fa3"
   },
   "outputs": [
    {
     "name": "stdout",
     "output_type": "stream",
     "text": [
      "Shape of h_bs  is: (500, 8, 1000)\n",
      "Shape of h_is  is: (500, 1, 1000)\n",
      "Shape of h_id  is: (500, 1, 1000)\n",
      "Shape of h_sd  is: (500, 1, 1000)\n",
      "Shape of g_rs  is: (500, 8, 1000)\n",
      "Shape of g_rd  is: (500, 8, 1000)\n",
      "Shape of g_ir  is: (500, 8, 1000)\n",
      "Shape of G_br  is: (500, 8, 8000)\n"
     ]
    }
   ],
   "source": [
    "\n",
    "alpha = 2.57\n",
    "alpha_irs = 2.2;\n",
    "Lc = 10**-3;\n",
    "\n",
    "d_br = 20;\n",
    "d_rs = 15;\n",
    "d_sb = 25;\n",
    "d_is = 15;\n",
    "d_id = 30\n",
    "d_rd = 15;\n",
    "d_sd = 25;\n",
    "d_ir = 15;\n",
    "\n",
    "b_bs = Lc*d_sb**(-alpha);\n",
    "b_is = Lc*d_is**(-alpha);\n",
    "b_id = Lc*d_id**(-alpha);\n",
    "b_sd = Lc*d_sd**(-alpha_irs);\n",
    "b_rs = Lc*d_rs**(-alpha_irs);\n",
    "b_rd = Lc*d_rd**(-alpha_irs);\n",
    "b_ir = Lc*d_ir**(-alpha_irs);\n",
    "b_br = Lc*d_br**(-alpha_irs);\n",
    "np.random.seed(11)\n",
    "h_bs = (np.random.randn(num_batches, M,mini_batch_size)+1j*np.random.randn(num_batches, M,mini_batch_size))*np.sqrt(b_bs/2)\n",
    "h_is = (np.random.randn(num_batches, 1,mini_batch_size)+1j*np.random.randn(num_batches, 1,mini_batch_size))*np.sqrt(b_is/2)\n",
    "h_id = (np.random.randn(num_batches, 1,mini_batch_size)+1j*np.random.randn(num_batches, 1,mini_batch_size))*np.sqrt(b_id/2)\n",
    "h_sd = (np.random.randn(num_batches, 1,mini_batch_size)+1j*np.random.randn(num_batches, 1,mini_batch_size))*np.sqrt(b_sd/2)\n",
    "g_rs = (np.random.randn(num_batches, N,mini_batch_size)+1j*np.random.randn(num_batches, N,mini_batch_size))*np.sqrt(b_rs/2)\n",
    "#g_sr = np.random.randn(num_batches, N,mini_batch_size)+1j*np.random.randn(num_batches, N,mini_batch_size)\n",
    "g_rd = (np.random.randn(num_batches, N,mini_batch_size)+1j*np.random.randn(num_batches, N,mini_batch_size))*np.sqrt(b_rd/2)\n",
    "g_ir = (np.random.randn(num_batches, N,mini_batch_size)+1j*np.random.randn(num_batches, N,mini_batch_size))*np.sqrt(b_ir/2)\n",
    "G_br = (np.random.randn(num_batches, N,M*mini_batch_size)+1j*np.random.randn(num_batches, N,M*mini_batch_size))*np.sqrt(b_br/2)\n",
    " \n",
    "print(\"Shape of h_bs  is: \"+str(h_bs.shape))\n",
    "print(\"Shape of h_is  is: \"+str(h_is.shape))\n",
    "print(\"Shape of h_id  is: \"+str(h_id.shape))\n",
    "print(\"Shape of h_sd  is: \"+str(h_sd.shape))\n",
    "print(\"Shape of g_rs  is: \"+str(g_rs.shape))\n",
    "print(\"Shape of g_rd  is: \"+str(g_rd.shape))\n",
    "print(\"Shape of g_ir  is: \"+str(g_ir.shape))\n",
    "print(\"Shape of G_br  is: \"+str(G_br.shape))\n",
    " \n",
    "np.random.seed(144)\n",
    "h_bs_t = (np.random.randn( M,mini_batch_size)+1j*np.random.randn( M,mini_batch_size))*np.sqrt(b_bs/2)\n",
    "h_is_t = (np.random.randn( 1,mini_batch_size)+1j*np.random.randn( 1,mini_batch_size))*np.sqrt(b_is/2)\n",
    "h_id_t = (np.random.randn( 1,mini_batch_size)+1j*np.random.randn( 1,mini_batch_size))*np.sqrt(b_id/2)\n",
    "h_sd_t = (np.random.randn( 1,mini_batch_size)+1j*np.random.randn( 1,mini_batch_size))*np.sqrt(b_sd/2)\n",
    "g_rs_t = (np.random.randn( N,mini_batch_size)+1j*np.random.randn( N,mini_batch_size))*np.sqrt(b_rs/2)\n",
    "g_rd_t = (np.random.randn( N,mini_batch_size)+1j*np.random.randn( N,mini_batch_size))*np.sqrt(b_rd/2)\n",
    "g_ir_t = (np.random.randn( N,mini_batch_size)+1j*np.random.randn( N,mini_batch_size))*np.sqrt(b_ir/2)\n",
    "G_br_t = (np.random.randn( N,M*mini_batch_size)+1j*np.random.randn( N,M*mini_batch_size))*np.sqrt(b_br/2)"
   ]
  },
  {
   "cell_type": "code",
   "execution_count": null,
   "metadata": {
    "colab": {
     "base_uri": "https://localhost:8080/"
    },
    "id": "pOLKgtiZA62D",
    "outputId": "40f9230a-c52e-4968-a9df-9f9d950822b3"
   },
   "outputs": [
    {
     "name": "stdout",
     "output_type": "stream",
     "text": [
      "196\n"
     ]
    }
   ],
   "source": [
    "dims = [2*(N*M+M+N+1),7*(N*M+M+N+1), 9*(N*M+M+N+1), 9*(N*M+M+N+1),8*(N*M+M+N+1),2*(N*M+M+N+1), 2*N+2]\n",
    "seed = np.random.randint(400)\n",
    "#seed = 12\n",
    "print(seed)\n",
    "tf.reset_default_graph()\n",
    "W1=tf.get_variable(\"W1\",[dims[1],dims[0]],dtype=\"float64\", initializer = tf.contrib.layers.xavier_initializer(seed = seed))\n",
    "b1=tf.get_variable(\"b1\",[dims[1],1],dtype=\"float64\", initializer = tf.zeros_initializer())\n",
    "W2=tf.get_variable(\"W2\",[dims[2],dims[1]],dtype=\"float64\", initializer = tf.contrib.layers.xavier_initializer(seed = seed))\n",
    "b2=tf.get_variable(\"b2\",[dims[2],1],dtype=\"float64\", initializer = tf.zeros_initializer())\n",
    "W3=tf.get_variable(\"W3\",[dims[3],dims[2]],dtype=\"float64\", initializer = tf.contrib.layers.xavier_initializer(seed = seed))\n",
    "b3=tf.get_variable(\"b3\",[dims[3],1],dtype=\"float64\", initializer = tf.zeros_initializer())\n",
    "W4=tf.get_variable(\"W4\",[dims[4],dims[3]],dtype=\"float64\", initializer = tf.contrib.layers.xavier_initializer(seed = seed))\n",
    "b4=tf.get_variable(\"b4\",[dims[4],1],dtype=\"float64\", initializer = tf.zeros_initializer())\n",
    "W5=tf.get_variable(\"W5\",[dims[5],dims[4]],dtype=\"float64\", initializer = tf.contrib.layers.xavier_initializer(seed = seed))\n",
    "b5=tf.get_variable(\"b5\",[dims[5],1],dtype=\"float64\", initializer = tf.zeros_initializer())\n",
    "W6=tf.get_variable(\"W6\",[dims[6],dims[5]],dtype=\"float64\", initializer = tf.contrib.layers.xavier_initializer(seed = seed))\n",
    "b6=tf.get_variable(\"b6\",[dims[6],1],dtype=\"float64\", initializer = tf.zeros_initializer())\n",
    "#tau = tf.get_variable(\"tau\",[1,1],dtype=\"float64\", initializer = tf.zeros_initializer())\n",
    " \n",
    "X = tf.placeholder(tf.float64, shape=(2*(N*M+M+N+1),None))"
   ]
  },
  {
   "cell_type": "code",
   "execution_count": null,
   "metadata": {
    "id": "CwqDWbowBNCX"
   },
   "outputs": [],
   "source": [
    "Z1 = tf.add(tf.matmul(W1,X),b1)                     # Linear Layer\n",
    "mean, variance = tf.nn.moments(Z1, axes= [1] ,keepdims=True)\n",
    "Z1_BN = tf.nn.batch_normalization(Z1, mean=mean, variance= variance, scale=1.0, offset= None, variance_epsilon=10**-5) # Batch Normalization Layer\n",
    "A1 = tf.nn.dropout(tf.nn.relu(Z1_BN),rate = 0.0, seed= 95)        # Relu Layer\n",
    " \n",
    "Z2 = tf.add(tf.matmul(W2,A1),b2)                     # Linear Layer\n",
    "mean, variance = tf.nn.moments(Z2, axes= [1] ,keepdims=True)\n",
    "Z2_BN = tf.nn.batch_normalization(Z2, mean=mean, variance= variance, scale=1.0, offset= None, variance_epsilon=10**-5) # Batch Normalization Layer\n",
    "A2 = tf.nn.dropout(tf.nn.relu(Z2),rate = 0.0, seed= 195) \n",
    " \n",
    " \n",
    "Z3 = tf.add(tf.matmul(W3,A2),b3)                     # Linear Layer\n",
    "mean, variance = tf.nn.moments(Z3, axes= [1] ,keepdims=True)\n",
    "Z3_BN = tf.nn.batch_normalization(Z3, mean=mean, variance= variance, scale=1, offset= None, variance_epsilon=10**-5) # Batch Normalization Layer\n",
    "A3 = tf.nn.relu(Z3)\n",
    "\n",
    "Z4 = tf.add(tf.matmul(W4,A3),b4)                     # Linear Layer\n",
    "mean, variance = tf.nn.moments(Z4, axes= [1],keepdims=True)\n",
    "Z4_BN = tf.nn.batch_normalization(Z4, mean=mean, variance= variance, scale=1, offset= None, variance_epsilon=10**-5) # Batch Normalization Layer\n",
    "A4 = tf.nn.relu(Z4) \n",
    "\n",
    "\n",
    "Z5 = tf.add(tf.matmul(W5,A4),b5)                     # Linear Layer\n",
    "mean, variance = tf.nn.moments(Z5, axes= [1],keepdims=True)\n",
    "Z5_BN = tf.nn.batch_normalization(Z5, mean=mean, variance= variance, scale=1, offset= None, variance_epsilon=10**-5) # Batch Normalization Layer\n",
    "A5 = tf.nn.leaky_relu(Z5_BN,0.) \n",
    "theta1 = tf.nn.sigmoid(Z5)\n",
    "Z6 = tf.add(tf.matmul(W6,A5),b6)                     # Linear Layer\n",
    "# mean, variance = tf.nn.moments(Z6, axes= [1],keepdims=True)\n",
    "# Z6_BN = tf.nn.batch_normalization(Z6, mean=mean, variance= variance/variance, scale=1, offset= None, variance_epsilon=10**-5) # Batch Normalization Layer\n",
    "theta1 = tf.nn.sigmoid(Z6)"
   ]
  },
  {
   "cell_type": "markdown",
   "metadata": {
    "id": "gjsTiX8zZo4z"
   },
   "source": [
    "## The cost function is,\n"
   ]
  },
  {
   "cell_type": "code",
   "execution_count": null,
   "metadata": {
    "id": "CLSwW0PBcvq1"
   },
   "outputs": [],
   "source": [
    "real = tf.zeros([N,tf.shape(X)[1]],dtype=tf.float64)\n",
    "#tau = tf.constant(0.1,dtype= tf.float64)\n",
    "log_base = tf.constant(2,dtype=tf.float64)\n",
    "etta = 1 "
   ]
  },
  {
   "cell_type": "code",
   "execution_count": null,
   "metadata": {
    "id": "RqN-u2hIpdPX"
   },
   "outputs": [],
   "source": [
    "theta_et1, theta_it1,tau,lemda = tf.split(theta1, num_or_size_splits= [N,N,1,1], axis = 0)\n",
    "theta_et = tf.exp(tf.complex(real,theta_et1*2*np.pi))\n",
    "theta_it = tf.exp(tf.complex(real,theta_it1*2*np.pi))\n",
    "# theta_et =loadmat('/content/drive/MyDrive/DL_prejects/Cost_varification_data/theta_et.mat')['theta_et']\n",
    "# print(theta_et.shape)  \n",
    "# theta_it = loadmat('/content/drive/MyDrive/DL_prejects/Cost_varification_data/theta_it.mat')['theta_it']\n",
    "# print(theta_it.shape) \n",
    "\n",
    "g_theta_et1 = tf.reshape(tf.complex(X[0:N*M,:],X[N*M:2*N*M,:]),[N,M*tf.shape(X)[1]])\n",
    "\n",
    "g_theta_et2 = g_theta_et1*tf.repeat(theta_et,M,axis=1)\n",
    "\n",
    "#g_theta_et6 = tf.reduce_sum(tf.transpose(g_theta_et2),axis = 1, keepdims=True)\n",
    "\n",
    "g_theta_et = tf.transpose(tf.reshape((tf.reduce_sum(g_theta_et2,axis = 0, keepdims= True)),[tf.shape(X)[1],M]),perm=[1,0])\n",
    "\n",
    "h_bs_c = tf.complex(X[2*N*M:2*N*M+M,:],X[2*N*M+M:2*N*M+2*M,:])\n",
    "\n",
    "\n",
    "Es = etta*tau*P_b*(tf.real(tf.norm((h_bs_c+g_theta_et), axis=0))**2)\n",
    "\n",
    "P_s = etta*(tau/(1-tau))*P_b*(tf.real(tf.norm((h_bs_c+g_theta_et), axis=0))**2)\n",
    "\n",
    "\n",
    "g_theta_it1 = tf.complex(X[2*N*M+2*M:2*N*M+2*M+N,:],X[2*N*M+2*M+N:2*N*M+2*M+2*N,:])\n",
    "g_theta_it = tf.reduce_sum(g_theta_it1*theta_it,axis = 0)\n",
    "h_sd_c = tf.complex(X[2*N*M+2*M+2*N:2*N*M+2*M+2*N+1,:],X[2*N*M+2*M+2*N+1:2*N*M+2*M+2*N+2,:])\n",
    "rd = P_s*(tf.abs((h_sd_c+g_theta_it)**2))/((sigma_n)**2)\n",
    "r = (1-tau)*tf.log(1+rd)/tf.log(log_base)\n",
    "cost = -tf.reduce_mean(r)*10\n",
    "cost1 = cost+lemda*tf.norm(theta1)"
   ]
  },
  {
   "cell_type": "code",
   "execution_count": null,
   "metadata": {
    "id": "aj7ZnWoGEd5R"
   },
   "outputs": [],
   "source": [
    "\n",
    "# g_rs = loadmat('/content/drive/MyDrive/DL_prejects/Cost_varification_data/g_rs.mat')['g_rs']\n",
    "# G_br = loadmat('/content/drive/MyDrive/DL_prejects/Cost_varification_data/G_br.mat')['G_br']\n",
    "# h_bs = loadmat('/content/drive/MyDrive/DL_prejects/Cost_varification_data/h_bs.mat')['h_bs']\n",
    "# g_rd = loadmat('/content/drive/MyDrive/DL_prejects/Cost_varification_data/g_rd.mat')['g_rd']\n",
    "# h_sd = loadmat('/content/drive/MyDrive/DL_prejects/Cost_varification_data/h_sd.mat')['h_sd']\n",
    "\n",
    "# # j =0\n",
    "# mini_batch_size = 3;\n",
    "# g_rs1 =  np.repeat(g_rs,M,axis = 1)\n",
    "# F = np.reshape(G_br*g_rs1, [N*M,mini_batch_size])\n",
    "# F = np.concatenate([np.real(F),np.imag(F)],axis=0)\n",
    "# F1 = np.concatenate([np.real(h_bs),np.imag(h_bs)],axis=0)\n",
    "# F2 = g_rd*g_rs\n",
    "# F2 = np.concatenate([np.real(F2),np.imag(F2)],axis=0)\n",
    "# F3 = np.concatenate([np.real(h_sd),np.imag(h_sd)],axis=0)\n",
    "# F = np.concatenate([F,F1,F2,F3],axis=0)\n",
    "# F.shape\n",
    "# sess = tf.Session()\n",
    "# init = tf.global_variables_initializer()\n",
    "# sess.run(init)\n",
    "# print(sess.run(r,feed_dict={X:F}))\n"
   ]
  },
  {
   "cell_type": "code",
   "execution_count": null,
   "metadata": {
    "id": "2dlzO2CxvWrB"
   },
   "outputs": [],
   "source": [
    "decay = 0.5"
   ]
  },
  {
   "cell_type": "code",
   "execution_count": null,
   "metadata": {
    "id": "zYNJOh4GBmoI"
   },
   "outputs": [],
   "source": [
    "lr = 0.001\n",
    "step_rate =500*10**2\n",
    "\n",
    "\n",
    "global_step = tf.Variable(0, trainable=False)\n",
    "increment_global_step = tf.assign(global_step, global_step + 1)\n",
    "learning_rate = tf.train.exponential_decay(lr, global_step, step_rate, decay, staircase=True)\n",
    "\n",
    "  \n",
    "optimizer = tf.train.AdamOptimizer(learning_rate= learning_rate )\n",
    "minimize_loss = optimizer.minimize(cost, global_step = global_step)"
   ]
  },
  {
   "cell_type": "code",
   "execution_count": null,
   "metadata": {
    "id": "4G7IyIKGBnjb"
   },
   "outputs": [],
   "source": [
    "init = tf.global_variables_initializer()"
   ]
  },
  {
   "cell_type": "code",
   "execution_count": null,
   "metadata": {
    "id": "cBhx94XKVh4n"
   },
   "outputs": [],
   "source": [
    "sess = tf.Session()\n",
    "sess.run(init)\n",
    "num_epochs = 1000"
   ]
  },
  {
   "cell_type": "code",
   "execution_count": null,
   "metadata": {
    "colab": {
     "base_uri": "https://localhost:8080/",
     "height": 1000
    },
    "id": "pbaykM2CBqGX",
    "outputId": "6b55931b-abf4-4048-fded-ce9158698411"
   },
   "outputs": [
    {
     "name": "stdout",
     "output_type": "stream",
     "text": [
      "Learning Rate 0.000125\n",
      "Epoch: 0 Training Loss= -48.28425370746024 Validation Loss= -47.92684341092912\n",
      "Learning Rate 0.000125\n",
      "Epoch: 1 Training Loss= -48.28407527607119 Validation Loss= -47.92733271597464\n",
      "Learning Rate 0.000125\n",
      "Epoch: 2 Training Loss= -48.285274277194546 Validation Loss= -47.927311859423526\n",
      "Learning Rate 0.000125\n",
      "Epoch: 3 Training Loss= -48.28412819615313 Validation Loss= -47.92820372335004\n",
      "Learning Rate 0.000125\n",
      "Epoch: 4 Training Loss= -48.2854707720271 Validation Loss= -47.92737692488143\n",
      "Learning Rate 0.000125\n",
      "Epoch: 5 Training Loss= -48.28684636532762 Validation Loss= -47.927725177039626\n",
      "Learning Rate 0.000125\n",
      "Epoch: 6 Training Loss= -48.28491193808142 Validation Loss= -47.928069659685804\n",
      "Learning Rate 0.000125\n",
      "Epoch: 7 Training Loss= -48.28509867716372 Validation Loss= -47.9287132728933\n",
      "Learning Rate 0.000125\n",
      "Epoch: 8 Training Loss= -48.285435524366356 Validation Loss= -47.9256908358624\n",
      "Learning Rate 0.000125\n",
      "Epoch: 9 Training Loss= -48.28493108925886 Validation Loss= -47.92824776989984\n",
      "Learning Rate 0.000125\n",
      "Epoch: 10 Training Loss= -48.2853809783135 Validation Loss= -47.926701310718556\n",
      "Learning Rate 0.000125\n",
      "Epoch: 11 Training Loss= -48.286093599162314 Validation Loss= -47.92884113286054\n",
      "Learning Rate 0.000125\n",
      "Epoch: 12 Training Loss= -48.285722445918786 Validation Loss= -47.929714182689494\n",
      "Learning Rate 0.000125\n",
      "Epoch: 13 Training Loss= -48.2843895328121 Validation Loss= -47.92949766845423\n",
      "Learning Rate 0.000125\n",
      "Epoch: 14 Training Loss= -48.28590222716811 Validation Loss= -47.92641017950593\n",
      "Learning Rate 0.000125\n",
      "Epoch: 15 Training Loss= -48.28566339485222 Validation Loss= -47.92567628991351\n",
      "Learning Rate 0.000125\n",
      "Epoch: 16 Training Loss= -48.286138838637726 Validation Loss= -47.92570080024405\n",
      "Learning Rate 0.000125\n",
      "Epoch: 17 Training Loss= -48.28571239753441 Validation Loss= -47.92660881273576\n",
      "Learning Rate 0.000125\n",
      "Epoch: 18 Training Loss= -48.28619939875452 Validation Loss= -47.926870782769356\n",
      "Learning Rate 0.000125\n",
      "Epoch: 19 Training Loss= -48.2849417574467 Validation Loss= -47.92734251094601\n",
      "Learning Rate 0.000125\n",
      "Epoch: 20 Training Loss= -48.28586970368016 Validation Loss= -47.92775550882463\n",
      "Learning Rate 0.000125\n",
      "Epoch: 21 Training Loss= -48.28630257735908 Validation Loss= -47.928434646180946\n",
      "Learning Rate 0.000125\n",
      "Epoch: 22 Training Loss= -48.28661622726432 Validation Loss= -47.92744363636557\n",
      "Learning Rate 0.000125\n",
      "Epoch: 23 Training Loss= -48.28674646206686 Validation Loss= -47.927787853584825\n",
      "Learning Rate 0.000125\n",
      "Epoch: 24 Training Loss= -48.28583104143916 Validation Loss= -47.92729712153584\n",
      "Learning Rate 0.000125\n",
      "Epoch: 25 Training Loss= -48.28565331397523 Validation Loss= -47.92671078137516\n",
      "Learning Rate 0.000125\n",
      "Epoch: 26 Training Loss= -48.285181399951476 Validation Loss= -47.9282260477271\n",
      "Learning Rate 0.000125\n",
      "Epoch: 27 Training Loss= -48.28716477738587 Validation Loss= -47.9285642495298\n",
      "Learning Rate 0.000125\n",
      "Epoch: 28 Training Loss= -48.28698631742853 Validation Loss= -47.92834307767164\n",
      "Learning Rate 0.000125\n",
      "Epoch: 29 Training Loss= -48.28632202520673 Validation Loss= -47.92795417241699\n",
      "Learning Rate 0.000125\n",
      "Epoch: 30 Training Loss= -48.28652611095766 Validation Loss= -47.92718713985074\n",
      "Learning Rate 0.000125\n",
      "Epoch: 31 Training Loss= -48.28610850940741 Validation Loss= -47.92782026389187\n",
      "Learning Rate 0.000125\n",
      "Epoch: 32 Training Loss= -48.28656099071695 Validation Loss= -47.92758959299196\n",
      "Learning Rate 0.000125\n",
      "Epoch: 33 Training Loss= -48.28829185477542 Validation Loss= -47.92752394011755\n",
      "Learning Rate 0.000125\n",
      "Epoch: 34 Training Loss= -48.28723591142639 Validation Loss= -47.92808113258255\n",
      "Learning Rate 0.000125\n",
      "Epoch: 35 Training Loss= -48.286417737136986 Validation Loss= -47.92723785197792\n",
      "Learning Rate 0.000125\n",
      "Epoch: 36 Training Loss= -48.28674685817805 Validation Loss= -47.927380955572005\n",
      "Learning Rate 0.000125\n",
      "Epoch: 37 Training Loss= -48.28712763206238 Validation Loss= -47.925330949229334\n",
      "Learning Rate 0.000125\n",
      "Epoch: 38 Training Loss= -48.28670951583707 Validation Loss= -47.927763096476724\n",
      "Learning Rate 0.000125\n",
      "Epoch: 39 Training Loss= -48.2873747563696 Validation Loss= -47.929382280269735\n",
      "Learning Rate 0.000125\n",
      "Epoch: 40 Training Loss= -48.28668902018726 Validation Loss= -47.92823984365951\n",
      "Learning Rate 0.000125\n",
      "Epoch: 41 Training Loss= -48.28628540026405 Validation Loss= -47.92709684692474\n",
      "Learning Rate 0.000125\n",
      "Epoch: 42 Training Loss= -48.28709835163842 Validation Loss= -47.92769924807247\n",
      "Learning Rate 0.000125\n",
      "Epoch: 43 Training Loss= -48.2879008069809 Validation Loss= -47.92509739551158\n",
      "Learning Rate 0.000125\n",
      "Epoch: 44 Training Loss= -48.28665621658062 Validation Loss= -47.92639219735631\n",
      "Learning Rate 0.000125\n",
      "Epoch: 45 Training Loss= -48.28879539576138 Validation Loss= -47.927882887665525\n",
      "Learning Rate 0.000125\n",
      "Epoch: 46 Training Loss= -48.285726622773126 Validation Loss= -47.92887704675549\n",
      "Learning Rate 0.000125\n",
      "Epoch: 47 Training Loss= -48.28662737847911 Validation Loss= -47.92954513956255\n",
      "Learning Rate 0.000125\n",
      "Epoch: 48 Training Loss= -48.28606960721289 Validation Loss= -47.92940449506566\n",
      "Learning Rate 0.000125\n",
      "Epoch: 49 Training Loss= -48.28668470124327 Validation Loss= -47.92911747133088\n",
      "Learning Rate 0.000125\n",
      "Epoch: 50 Training Loss= -48.286744389461745 Validation Loss= -47.92886411136328\n",
      "Learning Rate 0.000125\n",
      "Epoch: 51 Training Loss= -48.28712633655245 Validation Loss= -47.927185951778895\n",
      "Learning Rate 0.000125\n",
      "Epoch: 52 Training Loss= -48.28730560564929 Validation Loss= -47.92766170936353\n",
      "Learning Rate 0.000125\n",
      "Epoch: 53 Training Loss= -48.28733438407524 Validation Loss= -47.92691323567324\n",
      "Learning Rate 0.000125\n",
      "Epoch: 54 Training Loss= -48.28563309153292 Validation Loss= -47.927989922808145\n",
      "Learning Rate 0.000125\n",
      "Epoch: 55 Training Loss= -48.2867476809588 Validation Loss= -47.927261345058064\n",
      "Learning Rate 0.000125\n",
      "Epoch: 56 Training Loss= -48.28604263330445 Validation Loss= -47.928839583221915\n",
      "Learning Rate 0.000125\n",
      "Epoch: 57 Training Loss= -48.28621019102879 Validation Loss= -47.92672338918047\n",
      "Learning Rate 0.000125\n",
      "Epoch: 58 Training Loss= -48.28633999057716 Validation Loss= -47.92779542924397\n",
      "Learning Rate 0.000125\n",
      "Epoch: 59 Training Loss= -48.28585028749852 Validation Loss= -47.925935870116376\n",
      "Learning Rate 0.000125\n",
      "Epoch: 60 Training Loss= -48.287314796051405 Validation Loss= -47.92839757726164\n",
      "Learning Rate 0.000125\n",
      "Epoch: 61 Training Loss= -48.286832704634065 Validation Loss= -47.92724954204458\n",
      "Learning Rate 0.000125\n",
      "Epoch: 62 Training Loss= -48.28664376021146 Validation Loss= -47.92813261634761\n",
      "Learning Rate 0.000125\n",
      "Epoch: 63 Training Loss= -48.28769595406543 Validation Loss= -47.92903069225226\n",
      "Learning Rate 0.000125\n",
      "Epoch: 64 Training Loss= -48.28782073197321 Validation Loss= -47.92744972996622\n"
     ]
    },
    {
     "ename": "KeyboardInterrupt",
     "evalue": "ignored",
     "output_type": "error",
     "traceback": [
      "\u001b[0;31m---------------------------------------------------------------------------\u001b[0m",
      "\u001b[0;31mKeyboardInterrupt\u001b[0m                         Traceback (most recent call last)",
      "\u001b[0;32m<ipython-input-73-3ad8b34df0fd>\u001b[0m in \u001b[0;36m<module>\u001b[0;34m()\u001b[0m\n\u001b[1;32m     14\u001b[0m     \u001b[0mF3\u001b[0m \u001b[0;34m=\u001b[0m \u001b[0mnp\u001b[0m\u001b[0;34m.\u001b[0m\u001b[0mconcatenate\u001b[0m\u001b[0;34m(\u001b[0m\u001b[0;34m[\u001b[0m\u001b[0mnp\u001b[0m\u001b[0;34m.\u001b[0m\u001b[0mreal\u001b[0m\u001b[0;34m(\u001b[0m\u001b[0mh_sd\u001b[0m\u001b[0;34m[\u001b[0m\u001b[0mj\u001b[0m\u001b[0;34m]\u001b[0m\u001b[0;34m)\u001b[0m\u001b[0;34m,\u001b[0m\u001b[0mnp\u001b[0m\u001b[0;34m.\u001b[0m\u001b[0mimag\u001b[0m\u001b[0;34m(\u001b[0m\u001b[0mh_sd\u001b[0m\u001b[0;34m[\u001b[0m\u001b[0mj\u001b[0m\u001b[0;34m]\u001b[0m\u001b[0;34m)\u001b[0m\u001b[0;34m]\u001b[0m\u001b[0;34m,\u001b[0m\u001b[0maxis\u001b[0m\u001b[0;34m=\u001b[0m\u001b[0;36m0\u001b[0m\u001b[0;34m)\u001b[0m\u001b[0;34m\u001b[0m\u001b[0;34m\u001b[0m\u001b[0m\n\u001b[1;32m     15\u001b[0m     \u001b[0mF\u001b[0m \u001b[0;34m=\u001b[0m \u001b[0mnp\u001b[0m\u001b[0;34m.\u001b[0m\u001b[0mconcatenate\u001b[0m\u001b[0;34m(\u001b[0m\u001b[0;34m[\u001b[0m\u001b[0mF\u001b[0m\u001b[0;34m,\u001b[0m\u001b[0mF1\u001b[0m\u001b[0;34m,\u001b[0m\u001b[0mF2\u001b[0m\u001b[0;34m,\u001b[0m\u001b[0mF3\u001b[0m\u001b[0;34m]\u001b[0m\u001b[0;34m,\u001b[0m\u001b[0maxis\u001b[0m\u001b[0;34m=\u001b[0m\u001b[0;36m0\u001b[0m\u001b[0;34m)\u001b[0m\u001b[0;34m\u001b[0m\u001b[0;34m\u001b[0m\u001b[0m\n\u001b[0;32m---> 16\u001b[0;31m     \u001b[0msess\u001b[0m\u001b[0;34m.\u001b[0m\u001b[0mrun\u001b[0m\u001b[0;34m(\u001b[0m\u001b[0mminimize_loss\u001b[0m\u001b[0;34m,\u001b[0m\u001b[0mfeed_dict\u001b[0m\u001b[0;34m=\u001b[0m\u001b[0;34m{\u001b[0m\u001b[0mX\u001b[0m\u001b[0;34m:\u001b[0m\u001b[0mF\u001b[0m\u001b[0;34m}\u001b[0m\u001b[0;34m)\u001b[0m\u001b[0;34m\u001b[0m\u001b[0;34m\u001b[0m\u001b[0m\n\u001b[0m\u001b[1;32m     17\u001b[0m     \u001b[0;31m#print(sess.run(cost, feed_dict={X:h_train[j]}))\u001b[0m\u001b[0;34m\u001b[0m\u001b[0;34m\u001b[0m\u001b[0;34m\u001b[0m\u001b[0m\n\u001b[1;32m     18\u001b[0m   \u001b[0;32mif\u001b[0m \u001b[0;34m(\u001b[0m\u001b[0mepoch\u001b[0m\u001b[0;34m)\u001b[0m \u001b[0;34m%\u001b[0m \u001b[0mdisplay_step\u001b[0m \u001b[0;34m==\u001b[0m \u001b[0;36m0\u001b[0m\u001b[0;34m:\u001b[0m\u001b[0;34m\u001b[0m\u001b[0;34m\u001b[0m\u001b[0m\n",
      "\u001b[0;32m/tensorflow-1.15.2/python3.7/tensorflow_core/python/client/session.py\u001b[0m in \u001b[0;36mrun\u001b[0;34m(self, fetches, feed_dict, options, run_metadata)\u001b[0m\n\u001b[1;32m    954\u001b[0m     \u001b[0;32mtry\u001b[0m\u001b[0;34m:\u001b[0m\u001b[0;34m\u001b[0m\u001b[0;34m\u001b[0m\u001b[0m\n\u001b[1;32m    955\u001b[0m       result = self._run(None, fetches, feed_dict, options_ptr,\n\u001b[0;32m--> 956\u001b[0;31m                          run_metadata_ptr)\n\u001b[0m\u001b[1;32m    957\u001b[0m       \u001b[0;32mif\u001b[0m \u001b[0mrun_metadata\u001b[0m\u001b[0;34m:\u001b[0m\u001b[0;34m\u001b[0m\u001b[0;34m\u001b[0m\u001b[0m\n\u001b[1;32m    958\u001b[0m         \u001b[0mproto_data\u001b[0m \u001b[0;34m=\u001b[0m \u001b[0mtf_session\u001b[0m\u001b[0;34m.\u001b[0m\u001b[0mTF_GetBuffer\u001b[0m\u001b[0;34m(\u001b[0m\u001b[0mrun_metadata_ptr\u001b[0m\u001b[0;34m)\u001b[0m\u001b[0;34m\u001b[0m\u001b[0;34m\u001b[0m\u001b[0m\n",
      "\u001b[0;32m/tensorflow-1.15.2/python3.7/tensorflow_core/python/client/session.py\u001b[0m in \u001b[0;36m_run\u001b[0;34m(self, handle, fetches, feed_dict, options, run_metadata)\u001b[0m\n\u001b[1;32m   1178\u001b[0m     \u001b[0;32mif\u001b[0m \u001b[0mfinal_fetches\u001b[0m \u001b[0;32mor\u001b[0m \u001b[0mfinal_targets\u001b[0m \u001b[0;32mor\u001b[0m \u001b[0;34m(\u001b[0m\u001b[0mhandle\u001b[0m \u001b[0;32mand\u001b[0m \u001b[0mfeed_dict_tensor\u001b[0m\u001b[0;34m)\u001b[0m\u001b[0;34m:\u001b[0m\u001b[0;34m\u001b[0m\u001b[0;34m\u001b[0m\u001b[0m\n\u001b[1;32m   1179\u001b[0m       results = self._do_run(handle, final_targets, final_fetches,\n\u001b[0;32m-> 1180\u001b[0;31m                              feed_dict_tensor, options, run_metadata)\n\u001b[0m\u001b[1;32m   1181\u001b[0m     \u001b[0;32melse\u001b[0m\u001b[0;34m:\u001b[0m\u001b[0;34m\u001b[0m\u001b[0;34m\u001b[0m\u001b[0m\n\u001b[1;32m   1182\u001b[0m       \u001b[0mresults\u001b[0m \u001b[0;34m=\u001b[0m \u001b[0;34m[\u001b[0m\u001b[0;34m]\u001b[0m\u001b[0;34m\u001b[0m\u001b[0;34m\u001b[0m\u001b[0m\n",
      "\u001b[0;32m/tensorflow-1.15.2/python3.7/tensorflow_core/python/client/session.py\u001b[0m in \u001b[0;36m_do_run\u001b[0;34m(self, handle, target_list, fetch_list, feed_dict, options, run_metadata)\u001b[0m\n\u001b[1;32m   1357\u001b[0m     \u001b[0;32mif\u001b[0m \u001b[0mhandle\u001b[0m \u001b[0;32mis\u001b[0m \u001b[0;32mNone\u001b[0m\u001b[0;34m:\u001b[0m\u001b[0;34m\u001b[0m\u001b[0;34m\u001b[0m\u001b[0m\n\u001b[1;32m   1358\u001b[0m       return self._do_call(_run_fn, feeds, fetches, targets, options,\n\u001b[0;32m-> 1359\u001b[0;31m                            run_metadata)\n\u001b[0m\u001b[1;32m   1360\u001b[0m     \u001b[0;32melse\u001b[0m\u001b[0;34m:\u001b[0m\u001b[0;34m\u001b[0m\u001b[0;34m\u001b[0m\u001b[0m\n\u001b[1;32m   1361\u001b[0m       \u001b[0;32mreturn\u001b[0m \u001b[0mself\u001b[0m\u001b[0;34m.\u001b[0m\u001b[0m_do_call\u001b[0m\u001b[0;34m(\u001b[0m\u001b[0m_prun_fn\u001b[0m\u001b[0;34m,\u001b[0m \u001b[0mhandle\u001b[0m\u001b[0;34m,\u001b[0m \u001b[0mfeeds\u001b[0m\u001b[0;34m,\u001b[0m \u001b[0mfetches\u001b[0m\u001b[0;34m)\u001b[0m\u001b[0;34m\u001b[0m\u001b[0;34m\u001b[0m\u001b[0m\n",
      "\u001b[0;32m/tensorflow-1.15.2/python3.7/tensorflow_core/python/client/session.py\u001b[0m in \u001b[0;36m_do_call\u001b[0;34m(self, fn, *args)\u001b[0m\n\u001b[1;32m   1363\u001b[0m   \u001b[0;32mdef\u001b[0m \u001b[0m_do_call\u001b[0m\u001b[0;34m(\u001b[0m\u001b[0mself\u001b[0m\u001b[0;34m,\u001b[0m \u001b[0mfn\u001b[0m\u001b[0;34m,\u001b[0m \u001b[0;34m*\u001b[0m\u001b[0margs\u001b[0m\u001b[0;34m)\u001b[0m\u001b[0;34m:\u001b[0m\u001b[0;34m\u001b[0m\u001b[0;34m\u001b[0m\u001b[0m\n\u001b[1;32m   1364\u001b[0m     \u001b[0;32mtry\u001b[0m\u001b[0;34m:\u001b[0m\u001b[0;34m\u001b[0m\u001b[0;34m\u001b[0m\u001b[0m\n\u001b[0;32m-> 1365\u001b[0;31m       \u001b[0;32mreturn\u001b[0m \u001b[0mfn\u001b[0m\u001b[0;34m(\u001b[0m\u001b[0;34m*\u001b[0m\u001b[0margs\u001b[0m\u001b[0;34m)\u001b[0m\u001b[0;34m\u001b[0m\u001b[0;34m\u001b[0m\u001b[0m\n\u001b[0m\u001b[1;32m   1366\u001b[0m     \u001b[0;32mexcept\u001b[0m \u001b[0merrors\u001b[0m\u001b[0;34m.\u001b[0m\u001b[0mOpError\u001b[0m \u001b[0;32mas\u001b[0m \u001b[0me\u001b[0m\u001b[0;34m:\u001b[0m\u001b[0;34m\u001b[0m\u001b[0;34m\u001b[0m\u001b[0m\n\u001b[1;32m   1367\u001b[0m       \u001b[0mmessage\u001b[0m \u001b[0;34m=\u001b[0m \u001b[0mcompat\u001b[0m\u001b[0;34m.\u001b[0m\u001b[0mas_text\u001b[0m\u001b[0;34m(\u001b[0m\u001b[0me\u001b[0m\u001b[0;34m.\u001b[0m\u001b[0mmessage\u001b[0m\u001b[0;34m)\u001b[0m\u001b[0;34m\u001b[0m\u001b[0;34m\u001b[0m\u001b[0m\n",
      "\u001b[0;32m/tensorflow-1.15.2/python3.7/tensorflow_core/python/client/session.py\u001b[0m in \u001b[0;36m_run_fn\u001b[0;34m(feed_dict, fetch_list, target_list, options, run_metadata)\u001b[0m\n\u001b[1;32m   1348\u001b[0m       \u001b[0mself\u001b[0m\u001b[0;34m.\u001b[0m\u001b[0m_extend_graph\u001b[0m\u001b[0;34m(\u001b[0m\u001b[0;34m)\u001b[0m\u001b[0;34m\u001b[0m\u001b[0;34m\u001b[0m\u001b[0m\n\u001b[1;32m   1349\u001b[0m       return self._call_tf_sessionrun(options, feed_dict, fetch_list,\n\u001b[0;32m-> 1350\u001b[0;31m                                       target_list, run_metadata)\n\u001b[0m\u001b[1;32m   1351\u001b[0m \u001b[0;34m\u001b[0m\u001b[0m\n\u001b[1;32m   1352\u001b[0m     \u001b[0;32mdef\u001b[0m \u001b[0m_prun_fn\u001b[0m\u001b[0;34m(\u001b[0m\u001b[0mhandle\u001b[0m\u001b[0;34m,\u001b[0m \u001b[0mfeed_dict\u001b[0m\u001b[0;34m,\u001b[0m \u001b[0mfetch_list\u001b[0m\u001b[0;34m)\u001b[0m\u001b[0;34m:\u001b[0m\u001b[0;34m\u001b[0m\u001b[0;34m\u001b[0m\u001b[0m\n",
      "\u001b[0;32m/tensorflow-1.15.2/python3.7/tensorflow_core/python/client/session.py\u001b[0m in \u001b[0;36m_call_tf_sessionrun\u001b[0;34m(self, options, feed_dict, fetch_list, target_list, run_metadata)\u001b[0m\n\u001b[1;32m   1441\u001b[0m     return tf_session.TF_SessionRun_wrapper(self._session, options, feed_dict,\n\u001b[1;32m   1442\u001b[0m                                             \u001b[0mfetch_list\u001b[0m\u001b[0;34m,\u001b[0m \u001b[0mtarget_list\u001b[0m\u001b[0;34m,\u001b[0m\u001b[0;34m\u001b[0m\u001b[0;34m\u001b[0m\u001b[0m\n\u001b[0;32m-> 1443\u001b[0;31m                                             run_metadata)\n\u001b[0m\u001b[1;32m   1444\u001b[0m \u001b[0;34m\u001b[0m\u001b[0m\n\u001b[1;32m   1445\u001b[0m   \u001b[0;32mdef\u001b[0m \u001b[0m_call_tf_sessionprun\u001b[0m\u001b[0;34m(\u001b[0m\u001b[0mself\u001b[0m\u001b[0;34m,\u001b[0m \u001b[0mhandle\u001b[0m\u001b[0;34m,\u001b[0m \u001b[0mfeed_dict\u001b[0m\u001b[0;34m,\u001b[0m \u001b[0mfetch_list\u001b[0m\u001b[0;34m)\u001b[0m\u001b[0;34m:\u001b[0m\u001b[0;34m\u001b[0m\u001b[0;34m\u001b[0m\u001b[0m\n",
      "\u001b[0;31mKeyboardInterrupt\u001b[0m: "
     ]
    }
   ],
   "source": [
    "cost_train_plt = []\n",
    "cost_test_plt = []\n",
    "start_time=time.time()\n",
    "for epoch in range(num_epochs):\n",
    "  epoch1 = epoch\n",
    "  #np.random.shuffle(h_train)\n",
    "  for j in range(num_batches):\n",
    "    g_rs1 =  np.repeat(g_rs[j],M,axis = 1)\n",
    "    F = np.reshape(G_br[j]*g_rs1, [N*M,mini_batch_size])\n",
    "    F = np.concatenate([np.real(F),np.imag(F)],axis=0)\n",
    "    F1 = np.concatenate([np.real(h_bs[j]),np.imag(h_bs[j])],axis=0)\n",
    "    F2 = g_rd[j]*g_rs[j]\n",
    "    F2 = np.concatenate([np.real(F2),np.imag(F2)],axis=0)\n",
    "    F3 = np.concatenate([np.real(h_sd[j]),np.imag(h_sd[j])],axis=0)\n",
    "    F = np.concatenate([F,F1,F2,F3],axis=0)\n",
    "    sess.run(minimize_loss,feed_dict={X:F})\n",
    "    #print(sess.run(cost, feed_dict={X:h_train[j]}))\n",
    "  if (epoch) % display_step == 0:\n",
    "      print('Learning Rate',sess.run(optimizer._lr))\n",
    "      #print('Sum_Rate:',sess.run(sum_R, feed_dict={X:h_train[j]}))\n",
    "      c = sess.run(cost, feed_dict={X:F})\n",
    "      cost_train_plt.append(np.reshape(c,[1]))\n",
    "\n",
    "      g_rs1 =  np.repeat(g_rs_t,M,axis = 1)\n",
    "      F = np.reshape(G_br_t*g_rs1, [N*M,mini_batch_size])\n",
    "      F = np.concatenate([np.real(F),np.imag(F)],axis=0)\n",
    "      F1 = np.concatenate([np.real(h_bs_t),np.imag(h_bs_t)],axis=0)\n",
    "      F2 = g_rd_t*g_rs_t\n",
    "      F2 = np.concatenate([np.real(F2),np.imag(F2)],axis=0)\n",
    "      F3 = np.concatenate([np.real(h_sd_t),np.imag(h_sd_t)],axis=0)\n",
    "      F_test = np.concatenate([F,F1,F2,F3],axis=0)\n",
    "      \n",
    "      cost_test=sess.run(cost, feed_dict={X:F_test}) \n",
    "      cost_test_plt.append(np.reshape(cost_test,[1]))\n",
    "      print(\"Epoch: \" +str(epoch) + \" Training Loss= \"+ str(c) + \" Validation Loss= \"+ str(cost_test) )\n",
    "      #print(sess.run(P,feed_dict={X:h_train[j]}))\n",
    "duration = time.time()-start_time        \n",
    "print(\"The duration for training is: \"+str(duration)) \n",
    "print(\"The cost for test data is: \" + str(cost_test))\n",
    "plt.subplot(223)\n",
    "plt.plot(cost_train_plt ,label= 'training Loss')\n",
    "plt.plot(cost_test_plt, label= 'test loss')\n",
    "plt.legend(bbox_to_anchor=(1.05, 1), loc='upper left', borderaxespad=0.)\n",
    "plt.show()\n",
    "print(\"Optimization Finished!\")"
   ]
  },
  {
   "cell_type": "code",
   "execution_count": null,
   "metadata": {
    "colab": {
     "base_uri": "https://localhost:8080/",
     "height": 161
    },
    "id": "ycukftHnr4pZ",
    "outputId": "86e3b247-f731-4bce-b7f2-1e970f52764c"
   },
   "outputs": [
    {
     "data": {
      "image/png": "[encoded data removed]",
      "text/plain": [
       "<Figure size 432x288 with 1 Axes>"
      ]
     },
     "metadata": {
      "needs_background": "light"
     },
     "output_type": "display_data"
    }
   ],
   "source": [
    "a = -np.array(cost_train_plt)\n",
    "b = -np.array(cost_test_plt)\n",
    "plt.subplot(223)\n",
    "plt.plot(a ,label= 'Training Average Rate')\n",
    "plt.plot(b, label= 'Testing Average Rate')\n",
    "plt.xlabel('Epocs')\n",
    "plt.ylabel('Avg Sum Rate')\n",
    "plt.legend(bbox_to_anchor=(1.05, 1), loc='upper left', borderaxespad = 0.)\n",
    "plt.show()\n",
    "# graph_folder = '/content/drive/MyDrive/DL_prejects/Graph_data'\n",
    "# savemat(graph_folder+'/M8_tau_learned_train_rate.mat',{'Train_rate': a})\n",
    "# savemat(graph_folder+'/M8_tau_learned_Valid_rate.mat',{'Valid_rate': b})"
   ]
  },
  {
   "cell_type": "markdown",
   "metadata": {
    "id": "UDqiGdrCoWEB"
   },
   "source": [
    "## Save Trained Parameters"
   ]
  },
  {
   "cell_type": "code",
   "execution_count": null,
   "metadata": {
    "id": "yFpf9xkszdYT"
   },
   "outputs": [],
   "source": [
    "trained_param_folder = '/content/drive/MyDrive/Trainedwieghts'\n",
    "Save_train_param = True \n",
    "if Save_train_param== True:\n",
    "  savemat(trained_param_folder+'/W1.mat',{'W1': sess.run(W1)})\n",
    "  savemat(trained_param_folder+'/W2.mat',{'W2': sess.run(W2)})\n",
    "  savemat(trained_param_folder+'/W3.mat',{'W3': sess.run(W3)})\n",
    "  savemat(trained_param_folder+'/W4.mat',{'W4': sess.run(W4)})\n",
    "  savemat(trained_param_folder+'/W5.mat',{'W5': sess.run(W5)})\n",
    "  savemat(trained_param_folder+'/W6.mat',{'W6': sess.run(W6)})\n",
    "\n",
    "  savemat(trained_param_folder+'/b1.mat',{'b1': sess.run(b1)})\n",
    "  savemat(trained_param_folder+'/b2.mat',{'b2': sess.run(b2)})\n",
    "  savemat(trained_param_folder+'/b3.mat',{'b3': sess.run(b3)})\n",
    "  savemat(trained_param_folder+'/b4.mat',{'b4': sess.run(b4)})\n",
    "  savemat(trained_param_folder+'/b5.mat',{'b5': sess.run(b5)})\n",
    "  savemat(trained_param_folder+'/b6.mat',{'b6': sess.run(b6)})"
   ]
  },
  {
   "cell_type": "code",
   "execution_count": null,
   "metadata": {
    "colab": {
     "base_uri": "https://localhost:8080/",
     "height": 35
    },
    "id": "j997S9ZwwY1F",
    "outputId": "5bdffc45-81e0-48d8-a63f-5d38c6535290"
   },
   "outputs": [
    {
     "data": {
      "application/vnd.google.colaboratory.intrinsic+json": {
       "type": "string"
      },
      "text/plain": [
       "'4'"
      ]
     },
     "execution_count": 44,
     "metadata": {},
     "output_type": "execute_result"
    }
   ],
   "source": [
    "str(M)"
   ]
  },
  {
   "cell_type": "markdown",
   "metadata": {
    "id": "hHpnsoRSz_ME"
   },
   "source": [
    "## Load Trained Parameters"
   ]
  },
  {
   "cell_type": "code",
   "execution_count": null,
   "metadata": {
    "colab": {
     "base_uri": "https://localhost:8080/"
    },
    "id": "usUG4lgsnNeS",
    "outputId": "25b34241-1537-416f-d042-b147f220dc1f"
   },
   "outputs": [
    {
     "name": "stdout",
     "output_type": "stream",
     "text": [
      "0.012868404388427734\n",
      "-48.2960196126335\n"
     ]
    },
    {
     "data": {
      "text/plain": [
       "0.2371702092700916"
      ]
     },
     "execution_count": 74,
     "metadata": {},
     "output_type": "execute_result"
    }
   ],
   "source": [
    "mini_batch_size = 10**3\n",
    "np.random.seed(112)\n",
    "\n",
    "h_bs_test = (np.random.randn( M,mini_batch_size)+1j*np.random.randn( M,mini_batch_size))*np.sqrt(b_bs/2)\n",
    "h_is_test = (np.random.randn( 1,mini_batch_size)+1j*np.random.randn( 1,mini_batch_size))*np.sqrt(b_is/2)\n",
    "h_id_test = (np.random.randn( 1,mini_batch_size)+1j*np.random.randn( 1,mini_batch_size))*np.sqrt(b_id/2)\n",
    "h_sd_test = (np.random.randn( 1,mini_batch_size)+1j*np.random.randn( 1,mini_batch_size))*np.sqrt(b_sd/2)\n",
    "g_rs_test = (np.random.randn( N,mini_batch_size)+1j*np.random.randn( N,mini_batch_size))*np.sqrt(b_rs/2)\n",
    "g_sr_test = (np.random.randn( N,mini_batch_size)+1j*np.random.randn( N,mini_batch_size))*np.sqrt(b_rd/2)\n",
    "g_rd_test = (np.random.randn( N,mini_batch_size)+1j*np.random.randn( N,mini_batch_size))*np.sqrt(b_rd/2)\n",
    "g_ir_test = (np.random.randn( N,mini_batch_size)+1j*np.random.randn( N,mini_batch_size))*np.sqrt(b_ir/2)\n",
    "G_br_test = (np.random.randn( N,M*mini_batch_size)+1j*np.random.randn( N,M*mini_batch_size))*np.sqrt(b_br/2)\n",
    "\n",
    "#/content/drive/MyDrive/DL_prejects/Test_batch1000\n",
    "\n",
    "# g_rs_test = loadmat('/content/drive/MyDrive/DL_prejects/Test_batch1000/g_rs .mat')['g_rs'][0:N,:]\n",
    "# G_br_test = loadmat('/content/drive/MyDrive/DL_prejects/Test_batch1000/G_br.mat')['G_br'][0:N,0:M*mini_batch_size]\n",
    "# h_bs_test = loadmat('/content/drive/MyDrive/DL_prejects/Test_batch1000/h_bs.mat')['h_bs'][0:M,:]\n",
    "# g_rd_test = loadmat('/content/drive/MyDrive/DL_prejects/Test_batch1000/g_rd .mat')['g_rd'][0:N,:]\n",
    "# h_sd_test = loadmat('/content/drive/MyDrive/DL_prejects/Test_batch1000/h_sd .mat')['h_sd']\n",
    "tic = time.time()\n",
    "g_rs1 =  np.repeat(g_rs_test,M,axis = 1)\n",
    "F = np.reshape(G_br_test*g_rs1, [N*M,mini_batch_size])\n",
    "F = np.concatenate([np.real(F),np.imag(F)],axis=0)\n",
    "F1 = np.concatenate([np.real(h_bs_test),np.imag(h_bs_test)],axis=0)\n",
    "F2 = g_rd_test*g_rs_test\n",
    "F2 = np.concatenate([np.real(F2),np.imag(F2)],axis=0)\n",
    "F3 = np.concatenate([np.real(h_sd_test),np.imag(h_sd_test)],axis=0)\n",
    "F = np.concatenate([F,F1,F2,F3],axis=0)\n",
    " \n",
    "# theta_et_test = sess.run(theta_et1, feed_dict={X:F})\n",
    "# theta_it_test = sess.run(theta_it1, feed_dict={X:F})\n",
    "\n",
    "#theta_et_test_exp = sess.run(theta_et, feed_dict={X:F})\n",
    "#theta_it_test_exp = sess.run(theta_it, feed_dict={X:F})\n",
    "\n",
    "#print('Theta_et (degrees):',np.round(theta_et_test[:,0]*360))\n",
    "#print('Theta_it (degrees):',np.round(theta_it_test[:,0]*360))\n",
    "Cost = sess.run(cost, feed_dict={X:F})\n",
    "toc = time.time()\n",
    "print(toc-tic)\n",
    "print(Cost)\n",
    "Cost = sess.run(tau, feed_dict={X:F})\n",
    "np.mean(Cost)"
   ]
  }
 ],
 "metadata": {
  "accelerator": "GPU",
  "colab": {
   "collapsed_sections": [],
   "name": "RR_0_9934_Leky_relu_BN_IRSNet_tau_learn_M8_N8_BN1_varified_cost.ipynb",
   "provenance": []
  },
  "kernelspec": {
   "display_name": "Python 3",
   "language": "python",
   "name": "python3"
  },
  "language_info": {
   "codemirror_mode": {
    "name": "ipython",
    "version": 3
   },
   "file_extension": ".py",
   "mimetype": "text/x-python",
   "name": "python",
   "nbconvert_exporter": "python",
   "pygments_lexer": "ipython3",
   "version": "3.7.4"
  }
 },
 "nbformat": 4,
 "nbformat_minor": 1
}
